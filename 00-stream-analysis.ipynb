{
 "cells": [
  {
   "cell_type": "code",
   "execution_count": 1,
   "metadata": {},
   "outputs": [],
   "source": [
    "from bitstring import BitStream"
   ]
  },
  {
   "cell_type": "code",
   "execution_count": 2,
   "metadata": {},
   "outputs": [
    {
     "data": {
      "text/plain": [
       "[BitStream('0x00000140010c01ffff01600000030000030000030000030000f02400'),\n",
       " BitStream('0x00000142010101600000030000030000030000030000a0162024597e491b67b64000'),\n",
       " BitStream('0x0000014401c190958112'),\n",
       " BitStream('0x0000012601af198059dd4828dfb622b990737fc48c9cd34b4a90b5fa6d7f9e1736c59437022fea84fed603e2dc5c1ebdc43dadb12cf2f3dc2755ca4bba3120fe303ac16fd8e534e39ada7f2fb509ad8f030ec67fce03edaa824002612d4fa755cca03a131e3c5298b9135eee6ce79d0cda330cf4454035745fbf55827c...')  # length=10656,\n",
       " BitStream('0x00000140010c01ffff01600000030000030000030000030000f02400'),\n",
       " BitStream('0x00000142010101600000030000030000030000030000a0162024597e491b67b64000'),\n",
       " BitStream('0x0000014401c190958112'),\n",
       " BitStream('0x0000012a01ac04f8cc5b258fa63742c7b0ae7e00be9bf9427a6e42677a48b26b3bf743289d43904c34702bf3e246fb98edcda88f889b377319fbd6ba3712c80583c76bcb90a961e4a38dbcc7b6b17b850d6624ac4068c4b82b744edb569a3319a914c58988cf4a07fe37db916692135221b6e48cda127b803ec097a60a...')  # length=10624,\n",
       " BitStream('0x00000140010c01ffff01600000030000030000030000030000f02400'),\n",
       " BitStream('0x00000142010101600000030000030000030000030000a0162024597e491b67b64000'),\n",
       " BitStream('0x0000014401c190958112'),\n",
       " BitStream('0x0000012a01ac08f8cc9cbec19f163d8573ef7bb7eafea04ace25d37f43731164456707650da928443767bbe51f11be1779396a676ae505919813822157930cc99cea9f619fdac42239ddfd94f1c601d91c3fae564a8c9a8e8cb59cab656cf24c823b897b0153aeb39aeeef210615cece96c9f6cedf4a823e3e81c88b70...')  # length=10912]"
      ]
     },
     "execution_count": 2,
     "metadata": {},
     "output_type": "execute_result"
    }
   ],
   "source": [
    "bs = BitStream(filename='./samples/str.bin')\n",
    "nalus_ba = list(bs.split('0x000001', bytealigned=True))[1:]\n",
    "nalus_ba"
   ]
  },
  {
   "cell_type": "code",
   "execution_count": 3,
   "metadata": {},
   "outputs": [],
   "source": [
    "for nalu_ba in nalus_ba:\n",
    "    # enulation_prevention_three_byte\n",
    "    nalu_ba.replace('0x000003', '0x0000', bytealigned=True)"
   ]
  },
  {
   "cell_type": "code",
   "execution_count": null,
   "metadata": {},
   "outputs": [],
   "source": []
  }
 ],
 "metadata": {
  "kernelspec": {
   "display_name": "thinkdsp",
   "language": "python",
   "name": "python3"
  },
  "language_info": {
   "codemirror_mode": {
    "name": "ipython",
    "version": 3
   },
   "file_extension": ".py",
   "mimetype": "text/x-python",
   "name": "python",
   "nbconvert_exporter": "python",
   "pygments_lexer": "ipython3",
   "version": "3.10.14"
  }
 },
 "nbformat": 4,
 "nbformat_minor": 2
}

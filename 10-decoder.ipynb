{
 "cells": [
  {
   "cell_type": "code",
   "execution_count": 4,
   "metadata": {},
   "outputs": [],
   "source": [
    "import bitstring\n",
    "from h265 import H265BitStream, NALUnit"
   ]
  },
  {
   "cell_type": "code",
   "execution_count": 5,
   "metadata": {},
   "outputs": [],
   "source": [
    "with open(\"./samples/str.bin\", \"rb\") as input_file:\n",
    "    nalus_ba = list(bitstring.BitStream(input_file).split('0x000001', bytealigned=True))[1:]\n"
   ]
  },
  {
   "cell_type": "code",
   "execution_count": 6,
   "metadata": {},
   "outputs": [
    {
     "name": "stdout",
     "output_type": "stream",
     "text": [
      "BitStream(data:<0x40010c01ffff016000000000000000000000f02400>)\n"
     ]
    },
    {
     "ename": "NameError",
     "evalue": "name 'NalUnit' is not defined",
     "output_type": "error",
     "traceback": [
      "\u001b[1;31m---------------------------------------------------------------------------\u001b[0m",
      "\u001b[1;31mNameError\u001b[0m                                 Traceback (most recent call last)",
      "Cell \u001b[1;32mIn[6], line 5\u001b[0m\n\u001b[0;32m      2\u001b[0m bs \u001b[38;5;241m=\u001b[39m H265BitStream(bits)\n\u001b[0;32m      3\u001b[0m \u001b[38;5;28mprint\u001b[39m(bs)\n\u001b[1;32m----> 5\u001b[0m nalu \u001b[38;5;241m=\u001b[39m \u001b[43mNalUnit\u001b[49m(bs)\n\u001b[0;32m      6\u001b[0m \u001b[38;5;28mprint\u001b[39m(nalu)\n",
      "\u001b[1;31mNameError\u001b[0m: name 'NalUnit' is not defined"
     ]
    }
   ],
   "source": [
    "for bits in nalus_ba:\n",
    "    bs = H265BitStream(bits)\n",
    "    print(bs)\n",
    "\n",
    "    nalu = NALUnit(bs)\n",
    "    print(nalu)\n"
   ]
  },
  {
   "cell_type": "code",
   "execution_count": null,
   "metadata": {},
   "outputs": [],
   "source": []
  }
 ],
 "metadata": {
  "kernelspec": {
   "display_name": "thinkdsp",
   "language": "python",
   "name": "python3"
  },
  "language_info": {
   "codemirror_mode": {
    "name": "ipython",
    "version": 3
   },
   "file_extension": ".py",
   "mimetype": "text/x-python",
   "name": "python",
   "nbconvert_exporter": "python",
   "pygments_lexer": "ipython3",
   "version": "3.10.14"
  }
 },
 "nbformat": 4,
 "nbformat_minor": 2
}

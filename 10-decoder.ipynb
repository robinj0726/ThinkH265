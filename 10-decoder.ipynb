{
 "cells": [
  {
   "cell_type": "code",
   "execution_count": 1,
   "metadata": {},
   "outputs": [],
   "source": [
    "import bitstring\n",
    "from h265 import H265BitStream, NALUnit, VPS"
   ]
  },
  {
   "cell_type": "code",
   "execution_count": 2,
   "metadata": {},
   "outputs": [],
   "source": [
    "with open(\"./samples/str.bin\", \"rb\") as input_file:\n",
    "    nalus_ba = list(bitstring.BitStream(input_file).split('0x000001', bytealigned=True))[1:]\n"
   ]
  },
  {
   "cell_type": "code",
   "execution_count": 3,
   "metadata": {},
   "outputs": [
    {
     "name": "stdout",
     "output_type": "stream",
     "text": [
      "*********** NAL UNIT (VPS) ***********\n",
      "       0  forbidden_zero_bit                                 u(1)  : 0\n",
      "       1  nal_unit_type                                      u(6)  : 32\n",
      "       2  nuh_layer_id                                       u(6)  : 0\n",
      "       3  nuh_temporal_id_plus1                              u(3)  : 0\n",
      "=========== Video Parameter Set     ===========\n",
      "       4  video_parameter_set_id                             u(4)  : 0\n",
      "       5  vps_base_layer_internal_flag                       u(1)  : 1\n",
      "       6  vps_base_layer_available_flag                      u(1)  : 1\n",
      "       7  vps_max_layers_minus1                              u(6)  : 0\n",
      "       8  vps_max_sub_layers_minus1                          u(3)  : 0\n",
      "       9  vps_temporal_id_nesting_flag                       u(1)  : 1\n",
      "      10  vps_reserved_0xffff_16bits                         u(16) : 65535\n",
      "      11  profile_space                                      u(2)  : 0\n",
      "      12  tier_flag                                          u(1)  : 0\n",
      "      13  profile_idc                                        u(5)  : 1\n"
     ]
    },
    {
     "ename": "AttributeError",
     "evalue": "'VPS' object has no attribute 'general_profile_compatibility_flag'",
     "output_type": "error",
     "traceback": [
      "\u001b[1;31m---------------------------------------------------------------------------\u001b[0m",
      "\u001b[1;31mAttributeError\u001b[0m                            Traceback (most recent call last)",
      "Cell \u001b[1;32mIn[3], line 7\u001b[0m\n\u001b[0;32m      4\u001b[0m nalu \u001b[38;5;241m=\u001b[39m NALUnit(bs)\n\u001b[0;32m      6\u001b[0m \u001b[38;5;28;01mif\u001b[39;00m nalu\u001b[38;5;241m.\u001b[39mnal_unit_type \u001b[38;5;241m==\u001b[39m \u001b[38;5;241m32\u001b[39m: \u001b[38;5;66;03m# VPS\u001b[39;00m\n\u001b[1;32m----> 7\u001b[0m     vps \u001b[38;5;241m=\u001b[39m \u001b[43mVPS\u001b[49m\u001b[43m(\u001b[49m\u001b[43mbs\u001b[49m\u001b[43m)\u001b[49m\n",
      "File \u001b[1;32mc:\\Users\\robin\\Documents\\GitHub\\ThinkH265\\h265\\vps.py:15\u001b[0m, in \u001b[0;36mVPS.__init__\u001b[1;34m(self, bitstream)\u001b[0m\n\u001b[0;32m     12\u001b[0m \u001b[38;5;28;01mdef\u001b[39;00m \u001b[38;5;21m__init__\u001b[39m(\u001b[38;5;28mself\u001b[39m, bitstream):\n\u001b[0;32m     13\u001b[0m     \u001b[38;5;28mself\u001b[39m\u001b[38;5;241m.\u001b[39m_bits \u001b[38;5;241m=\u001b[39m bitstream\n\u001b[1;32m---> 15\u001b[0m     \u001b[38;5;28;43mself\u001b[39;49m\u001b[38;5;241;43m.\u001b[39;49m\u001b[43mparseVPS\u001b[49m\u001b[43m(\u001b[49m\u001b[43m)\u001b[49m\n",
      "File \u001b[1;32mc:\\Users\\robin\\Documents\\GitHub\\ThinkH265\\h265\\vps.py:41\u001b[0m, in \u001b[0;36mVPS.parseVPS\u001b[1;34m(self)\u001b[0m\n\u001b[0;32m     39\u001b[0m \u001b[38;5;28mself\u001b[39m\u001b[38;5;241m.\u001b[39mvps_temporal_id_nesting_flag \u001b[38;5;241m=\u001b[39m \u001b[38;5;28mself\u001b[39m\u001b[38;5;241m.\u001b[39m_bits\u001b[38;5;241m.\u001b[39mReadFlag(\u001b[38;5;124m\"\u001b[39m\u001b[38;5;124mvps_temporal_id_nesting_flag\u001b[39m\u001b[38;5;124m\"\u001b[39m)\n\u001b[0;32m     40\u001b[0m \u001b[38;5;28mself\u001b[39m\u001b[38;5;241m.\u001b[39mvps_reserved_0xffff_16bits \u001b[38;5;241m=\u001b[39m \u001b[38;5;28mself\u001b[39m\u001b[38;5;241m.\u001b[39m_bits\u001b[38;5;241m.\u001b[39mReadCode(\u001b[38;5;124m\"\u001b[39m\u001b[38;5;124mvps_reserved_0xffff_16bits\u001b[39m\u001b[38;5;124m\"\u001b[39m, \u001b[38;5;241m16\u001b[39m)\n\u001b[1;32m---> 41\u001b[0m \u001b[38;5;28;43mself\u001b[39;49m\u001b[38;5;241;43m.\u001b[39;49m\u001b[43mprofile_tier_level\u001b[49m\u001b[43m(\u001b[49m\u001b[43m)\u001b[49m\n",
      "File \u001b[1;32mc:\\Users\\robin\\Documents\\GitHub\\ThinkH265\\h265\\vps.py:21\u001b[0m, in \u001b[0;36mVPS.profile_tier_level\u001b[1;34m(self)\u001b[0m\n\u001b[0;32m     19\u001b[0m \u001b[38;5;28mself\u001b[39m\u001b[38;5;241m.\u001b[39mtier_flag \u001b[38;5;241m=\u001b[39m \u001b[38;5;28mself\u001b[39m\u001b[38;5;241m.\u001b[39m_bits\u001b[38;5;241m.\u001b[39mReadFlag(\u001b[38;5;124m\"\u001b[39m\u001b[38;5;124mtier_flag\u001b[39m\u001b[38;5;124m\"\u001b[39m)\n\u001b[0;32m     20\u001b[0m \u001b[38;5;28mself\u001b[39m\u001b[38;5;241m.\u001b[39mprofile_idc \u001b[38;5;241m=\u001b[39m \u001b[38;5;28mself\u001b[39m\u001b[38;5;241m.\u001b[39m_bits\u001b[38;5;241m.\u001b[39mReadCode(\u001b[38;5;124m\"\u001b[39m\u001b[38;5;124mprofile_idc\u001b[39m\u001b[38;5;124m\"\u001b[39m, \u001b[38;5;241m5\u001b[39m)\n\u001b[1;32m---> 21\u001b[0m \u001b[38;5;28;43mself\u001b[39;49m\u001b[38;5;241;43m.\u001b[39;49m\u001b[43mgeneral_profile_compatibility_flag\u001b[49m[\u001b[38;5;241m32\u001b[39m] \u001b[38;5;241m=\u001b[39m [\u001b[38;5;241m0\u001b[39m]\u001b[38;5;241m*\u001b[39m\u001b[38;5;241m32\u001b[39m\n\u001b[0;32m     22\u001b[0m \u001b[38;5;28;01mfor\u001b[39;00m j \u001b[38;5;129;01min\u001b[39;00m \u001b[38;5;28mrange\u001b[39m(\u001b[38;5;241m32\u001b[39m):\n\u001b[0;32m     23\u001b[0m     \u001b[38;5;28mself\u001b[39m\u001b[38;5;241m.\u001b[39mgeneral_profile_compatibility_flag[j] \u001b[38;5;241m=\u001b[39m \u001b[38;5;28mself\u001b[39m\u001b[38;5;241m.\u001b[39m_bits\u001b[38;5;241m.\u001b[39mReadFlag(\u001b[38;5;124mf\u001b[39m\u001b[38;5;124m\"\u001b[39m\u001b[38;5;124mgeneral_profile_compatibility_flag[][\u001b[39m\u001b[38;5;132;01m{\u001b[39;00mj\u001b[38;5;132;01m}\u001b[39;00m\u001b[38;5;124m]\u001b[39m\u001b[38;5;124m\"\u001b[39m)\n",
      "\u001b[1;31mAttributeError\u001b[0m: 'VPS' object has no attribute 'general_profile_compatibility_flag'"
     ]
    }
   ],
   "source": [
    "for bits in nalus_ba:\n",
    "    bs = H265BitStream(bits)\n",
    "\n",
    "    nalu = NALUnit(bs)\n",
    "\n",
    "    if nalu.nal_unit_type == 32: # VPS\n",
    "        vps = VPS(bs)\n"
   ]
  },
  {
   "cell_type": "code",
   "execution_count": null,
   "metadata": {},
   "outputs": [],
   "source": []
  }
 ],
 "metadata": {
  "kernelspec": {
   "display_name": "thinkdsp",
   "language": "python",
   "name": "python3"
  },
  "language_info": {
   "codemirror_mode": {
    "name": "ipython",
    "version": 3
   },
   "file_extension": ".py",
   "mimetype": "text/x-python",
   "name": "python",
   "nbconvert_exporter": "python",
   "pygments_lexer": "ipython3",
   "version": "3.10.14"
  }
 },
 "nbformat": 4,
 "nbformat_minor": 2
}

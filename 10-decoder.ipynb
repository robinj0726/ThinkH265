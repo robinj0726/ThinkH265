{
 "cells": [
  {
   "cell_type": "code",
   "execution_count": 1,
   "metadata": {},
   "outputs": [],
   "source": [
    "import bitstring\n",
    "from h265 import H265BitStream, NALUnit"
   ]
  },
  {
   "cell_type": "code",
   "execution_count": 2,
   "metadata": {},
   "outputs": [],
   "source": [
    "with open(\"./samples/str.bin\", \"rb\") as input_file:\n",
    "    nalus_ba = list(bitstring.BitStream(input_file).split('0x000001', bytealigned=True))[1:]\n"
   ]
  },
  {
   "cell_type": "code",
   "execution_count": 3,
   "metadata": {},
   "outputs": [
    {
     "name": "stdout",
     "output_type": "stream",
     "text": [
      "BitStream(data:<0x40010c01ffff016000000000000000000000f02400>)\n",
      "*********** NAL UNIT (VPS) ***********\n",
      "       0  forbidden_zero_bit: 0\n",
      "       1  nal_unit_type: 32\n",
      "       2  nuh_layer_id: 0\n",
      "       3  nuh_temporal_id_plus1: 0\n",
      "NALU(forbidden_zero_bit=0, nal_unit_type=32, nuh_layer_id=0, nuh_temporal_id_plus1=0)\n",
      "BitStream(data:<0x420101016000000000000000000000a0162024597e491b67b64000>)\n",
      "*********** NAL UNIT (SPS) ***********\n",
      "       4  forbidden_zero_bit: 0\n",
      "       5  nal_unit_type: 33\n",
      "       6  nuh_layer_id: 0\n",
      "       7  nuh_temporal_id_plus1: 0\n",
      "NALU(forbidden_zero_bit=0, nal_unit_type=33, nuh_layer_id=0, nuh_temporal_id_plus1=0)\n",
      "BitStream(data:<0x4401c190958112>)\n",
      "*********** NAL UNIT (PPS) ***********\n",
      "       8  forbidden_zero_bit: 0\n",
      "       9  nal_unit_type: 34\n",
      "      10  nuh_layer_id: 0\n",
      "      11  nuh_temporal_id_plus1: 0\n",
      "NALU(forbidden_zero_bit=0, nal_unit_type=34, nuh_layer_id=0, nuh_temporal_id_plus1=0)\n",
      "BitStream(data:<0x2601af198059dd4828dfb622b990737fc48c9cd34b4a90b5fa6d7f9e1736c59437022fea84fed603e2dc5c1ebdc43dadb12cf2f3dc2755ca4bba3120fe303ac16fd8e534e39ada7f2fb509ad8f030ec67fce03edaa824002612d4fa755cca03a131e3c5298b9135eee6ce79d0cda330cf4454035745fbf55827c0271ea...>)\n",
      "*********** NAL UNIT (IDR_W_RADL) ***********\n",
      "      12  forbidden_zero_bit: 0\n",
      "      13  nal_unit_type: 19\n",
      "      14  nuh_layer_id: 0\n",
      "      15  nuh_temporal_id_plus1: 0\n",
      "NALU(forbidden_zero_bit=0, nal_unit_type=19, nuh_layer_id=0, nuh_temporal_id_plus1=0)\n",
      "BitStream(data:<0x40010c01ffff016000000000000000000000f02400>)\n",
      "*********** NAL UNIT (VPS) ***********\n",
      "      16  forbidden_zero_bit: 0\n",
      "      17  nal_unit_type: 32\n",
      "      18  nuh_layer_id: 0\n",
      "      19  nuh_temporal_id_plus1: 0\n",
      "NALU(forbidden_zero_bit=0, nal_unit_type=32, nuh_layer_id=0, nuh_temporal_id_plus1=0)\n",
      "BitStream(data:<0x420101016000000000000000000000a0162024597e491b67b64000>)\n",
      "*********** NAL UNIT (SPS) ***********\n",
      "      20  forbidden_zero_bit: 0\n",
      "      21  nal_unit_type: 33\n",
      "      22  nuh_layer_id: 0\n",
      "      23  nuh_temporal_id_plus1: 0\n",
      "NALU(forbidden_zero_bit=0, nal_unit_type=33, nuh_layer_id=0, nuh_temporal_id_plus1=0)\n",
      "BitStream(data:<0x4401c190958112>)\n",
      "*********** NAL UNIT (PPS) ***********\n",
      "      24  forbidden_zero_bit: 0\n",
      "      25  nal_unit_type: 34\n",
      "      26  nuh_layer_id: 0\n",
      "      27  nuh_temporal_id_plus1: 0\n",
      "NALU(forbidden_zero_bit=0, nal_unit_type=34, nuh_layer_id=0, nuh_temporal_id_plus1=0)\n",
      "BitStream(data:<0x2a01ac04f8cc5b258fa63742c7b0ae7e00be9bf9427a6e42677a48b26b3bf743289d43904c34702bf3e246fb98edcda88f889b377319fbd6ba3712c80583c76bcb90a961e4a38dbcc7b6b17b850d6624ac4068c4b82b744edb569a3319a914c58988cf4a07fe37db916692135221b6e48cda127b803ec097a60a653cbe...>)\n",
      "*********** NAL UNIT (CRA) ***********\n",
      "      28  forbidden_zero_bit: 0\n",
      "      29  nal_unit_type: 21\n",
      "      30  nuh_layer_id: 0\n",
      "      31  nuh_temporal_id_plus1: 0\n",
      "NALU(forbidden_zero_bit=0, nal_unit_type=21, nuh_layer_id=0, nuh_temporal_id_plus1=0)\n",
      "BitStream(data:<0x40010c01ffff016000000000000000000000f02400>)\n",
      "*********** NAL UNIT (VPS) ***********\n",
      "      32  forbidden_zero_bit: 0\n",
      "      33  nal_unit_type: 32\n",
      "      34  nuh_layer_id: 0\n",
      "      35  nuh_temporal_id_plus1: 0\n",
      "NALU(forbidden_zero_bit=0, nal_unit_type=32, nuh_layer_id=0, nuh_temporal_id_plus1=0)\n",
      "BitStream(data:<0x420101016000000000000000000000a0162024597e491b67b64000>)\n",
      "*********** NAL UNIT (SPS) ***********\n",
      "      36  forbidden_zero_bit: 0\n",
      "      37  nal_unit_type: 33\n",
      "      38  nuh_layer_id: 0\n",
      "      39  nuh_temporal_id_plus1: 0\n",
      "NALU(forbidden_zero_bit=0, nal_unit_type=33, nuh_layer_id=0, nuh_temporal_id_plus1=0)\n",
      "BitStream(data:<0x4401c190958112>)\n",
      "*********** NAL UNIT (PPS) ***********\n",
      "      40  forbidden_zero_bit: 0\n",
      "      41  nal_unit_type: 34\n",
      "      42  nuh_layer_id: 0\n",
      "      43  nuh_temporal_id_plus1: 0\n",
      "NALU(forbidden_zero_bit=0, nal_unit_type=34, nuh_layer_id=0, nuh_temporal_id_plus1=0)\n",
      "BitStream(data:<0x2a01ac08f8cc9cbec19f163d8573ef7bb7eafea04ace25d37f43731164456707650da928443767bbe51f11be1779396a676ae505919813822157930cc99cea9f619fdac42239ddfd94f1c601d91c3fae564a8c9a8e8cb59cab656cf24c823b897b0153aeb39aeeef210615cece96c9f6cedf4a823e3e81c88b70e870c5...>)\n",
      "*********** NAL UNIT (CRA) ***********\n",
      "      44  forbidden_zero_bit: 0\n",
      "      45  nal_unit_type: 21\n",
      "      46  nuh_layer_id: 0\n",
      "      47  nuh_temporal_id_plus1: 0\n",
      "NALU(forbidden_zero_bit=0, nal_unit_type=21, nuh_layer_id=0, nuh_temporal_id_plus1=0)\n"
     ]
    }
   ],
   "source": [
    "for bits in nalus_ba:\n",
    "    bs = H265BitStream(bits)\n",
    "\n",
    "    nalu = NALUnit(bs)\n"
   ]
  },
  {
   "cell_type": "code",
   "execution_count": null,
   "metadata": {},
   "outputs": [],
   "source": []
  }
 ],
 "metadata": {
  "kernelspec": {
   "display_name": "thinkdsp",
   "language": "python",
   "name": "python3"
  },
  "language_info": {
   "codemirror_mode": {
    "name": "ipython",
    "version": 3
   },
   "file_extension": ".py",
   "mimetype": "text/x-python",
   "name": "python",
   "nbconvert_exporter": "python",
   "pygments_lexer": "ipython3",
   "version": "3.10.14"
  }
 },
 "nbformat": 4,
 "nbformat_minor": 2
}

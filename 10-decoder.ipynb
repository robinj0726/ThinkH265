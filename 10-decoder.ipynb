{
 "cells": [
  {
   "cell_type": "code",
   "execution_count": 1,
   "metadata": {},
   "outputs": [],
   "source": [
    "import bitstring\n",
    "import h265 "
   ]
  },
  {
   "cell_type": "code",
   "execution_count": 2,
   "metadata": {},
   "outputs": [],
   "source": [
    "with open(\"./samples/str.bin\", \"rb\") as input_file:\n",
    "    nalus_ba = list(bitstring.BitStream(input_file).split('0x000001', bytealigned=True))[1:]\n"
   ]
  },
  {
   "cell_type": "code",
   "execution_count": 3,
   "metadata": {},
   "outputs": [
    {
     "name": "stdout",
     "output_type": "stream",
     "text": [
      "0x40010c01ffff01600000030000030000030000030000f02400\n",
      "NALU(forbidden_zero_bit=0, nal_ref_idc=2, nal_unit_type=0)\n",
      "0x42010101600000030000030000030000030000a0162024597e491b67b64000\n",
      "NALU(forbidden_zero_bit=0, nal_ref_idc=2, nal_unit_type=2)\n",
      "0x4401c190958112\n",
      "NALU(forbidden_zero_bit=0, nal_ref_idc=2, nal_unit_type=4)\n",
      "0x2601af198059dd4828dfb622b990737fc48c9cd34b4a90b5fa6d7f9e1736c59437022fea84fed603e2dc5c1ebdc43dadb12cf2f3dc2755ca4bba3120fe303ac16fd8e534e39ada7f2fb509ad8f030ec67fce03edaa824002612d4fa755cca03a131e3c5298b9135eee6ce79d0cda330cf4454035745fbf55827c0271ea...\n",
      "NALU(forbidden_zero_bit=0, nal_ref_idc=1, nal_unit_type=6)\n",
      "0x40010c01ffff01600000030000030000030000030000f02400\n",
      "NALU(forbidden_zero_bit=0, nal_ref_idc=2, nal_unit_type=0)\n",
      "0x42010101600000030000030000030000030000a0162024597e491b67b64000\n",
      "NALU(forbidden_zero_bit=0, nal_ref_idc=2, nal_unit_type=2)\n",
      "0x4401c190958112\n",
      "NALU(forbidden_zero_bit=0, nal_ref_idc=2, nal_unit_type=4)\n",
      "0x2a01ac04f8cc5b258fa63742c7b0ae7e00be9bf9427a6e42677a48b26b3bf743289d43904c34702bf3e246fb98edcda88f889b377319fbd6ba3712c80583c76bcb90a961e4a38dbcc7b6b17b850d6624ac4068c4b82b744edb569a3319a914c58988cf4a07fe37db916692135221b6e48cda127b803ec097a60a653cbe...\n",
      "NALU(forbidden_zero_bit=0, nal_ref_idc=1, nal_unit_type=10)\n",
      "0x40010c01ffff01600000030000030000030000030000f02400\n",
      "NALU(forbidden_zero_bit=0, nal_ref_idc=2, nal_unit_type=0)\n",
      "0x42010101600000030000030000030000030000a0162024597e491b67b64000\n",
      "NALU(forbidden_zero_bit=0, nal_ref_idc=2, nal_unit_type=2)\n",
      "0x4401c190958112\n",
      "NALU(forbidden_zero_bit=0, nal_ref_idc=2, nal_unit_type=4)\n",
      "0x2a01ac08f8cc9cbec19f163d8573ef7bb7eafea04ace25d37f43731164456707650da928443767bbe51f11be1779396a676ae505919813822157930cc99cea9f619fdac42239ddfd94f1c601d91c3fae564a8c9a8e8cb59cab656cf24c823b897b0153aeb39aeeef210615cece96c9f6cedf4a823e3e81c88b70e870c5...\n",
      "NALU(forbidden_zero_bit=0, nal_ref_idc=1, nal_unit_type=10)\n"
     ]
    }
   ],
   "source": [
    "for bits in nalus_ba:\n",
    "    nalu_bs = h265.BitStream(bits)\n",
    "    nalu = h265.NALUnit(nalu_bs)\n",
    "    print(nalu)\n"
   ]
  },
  {
   "cell_type": "code",
   "execution_count": null,
   "metadata": {},
   "outputs": [],
   "source": []
  }
 ],
 "metadata": {
  "kernelspec": {
   "display_name": "thinkdsp",
   "language": "python",
   "name": "python3"
  },
  "language_info": {
   "codemirror_mode": {
    "name": "ipython",
    "version": 3
   },
   "file_extension": ".py",
   "mimetype": "text/x-python",
   "name": "python",
   "nbconvert_exporter": "python",
   "pygments_lexer": "ipython3",
   "version": "3.10.14"
  }
 },
 "nbformat": 4,
 "nbformat_minor": 2
}

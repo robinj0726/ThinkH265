{
 "cells": [
  {
   "cell_type": "code",
   "execution_count": 4,
   "metadata": {},
   "outputs": [],
   "source": [
    "import bitstring\n",
    "from h265 import H265BitStream"
   ]
  },
  {
   "cell_type": "code",
   "execution_count": 5,
   "metadata": {},
   "outputs": [],
   "source": [
    "with open(\"./samples/str.bin\", \"rb\") as input_file:\n",
    "    nalus_ba = list(bitstring.BitStream(input_file).split('0x000001', bytealigned=True))[1:]\n"
   ]
  },
  {
   "cell_type": "code",
   "execution_count": 6,
   "metadata": {},
   "outputs": [
    {
     "name": "stdout",
     "output_type": "stream",
     "text": [
      "BitStream(data:<0x40010c01ffff016000000000000000000000f02400>)\n",
      "NALU(forbidden_zero_bit=0, nal_unit_type=32, nuh_layer_id=0, nuh_temporal_id_plus1=0)\n",
      "VPS(vps_video_parameter_set_id=0, vps_base_layer_internal_flag=1)\n",
      "BitStream(data:<0x420101016000000000000000000000a0162024597e491b67b64000>)\n",
      "NALU(forbidden_zero_bit=0, nal_unit_type=33, nuh_layer_id=0, nuh_temporal_id_plus1=0)\n"
     ]
    },
    {
     "ename": "AttributeError",
     "evalue": "'BitStream' object has no attribute 'vps'",
     "output_type": "error",
     "traceback": [
      "\u001b[1;31m---------------------------------------------------------------------------\u001b[0m",
      "\u001b[1;31mAttributeError\u001b[0m                            Traceback (most recent call last)",
      "Cell \u001b[1;32mIn[6], line 5\u001b[0m\n\u001b[0;32m      3\u001b[0m \u001b[38;5;28mprint\u001b[39m(h265_bs)\n\u001b[0;32m      4\u001b[0m \u001b[38;5;28mprint\u001b[39m(h265_bs\u001b[38;5;241m.\u001b[39mnalu)\n\u001b[1;32m----> 5\u001b[0m \u001b[38;5;28mprint\u001b[39m(\u001b[43mh265_bs\u001b[49m\u001b[38;5;241;43m.\u001b[39;49m\u001b[43mvps\u001b[49m)\n",
      "\u001b[1;31mAttributeError\u001b[0m: 'BitStream' object has no attribute 'vps'"
     ]
    }
   ],
   "source": [
    "for bits in nalus_ba:\n",
    "    h265_bs = H265BitStream(bits)\n",
    "    print(h265_bs)\n",
    "    print(h265_bs.nalu)\n"
   ]
  },
  {
   "cell_type": "code",
   "execution_count": null,
   "metadata": {},
   "outputs": [],
   "source": []
  }
 ],
 "metadata": {
  "kernelspec": {
   "display_name": "thinkdsp",
   "language": "python",
   "name": "python3"
  },
  "language_info": {
   "codemirror_mode": {
    "name": "ipython",
    "version": 3
   },
   "file_extension": ".py",
   "mimetype": "text/x-python",
   "name": "python",
   "nbconvert_exporter": "python",
   "pygments_lexer": "ipython3",
   "version": "3.10.14"
  }
 },
 "nbformat": 4,
 "nbformat_minor": 2
}
